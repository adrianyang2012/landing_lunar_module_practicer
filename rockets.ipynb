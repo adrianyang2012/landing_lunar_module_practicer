{
  "nbformat": 4,
  "nbformat_minor": 0,
  "metadata": {
    "colab": {
      "private_outputs": true,
      "provenance": [],
      "authorship_tag": "ABX9TyPC0EyAf6PReTQjzMVCv0ER",
      "include_colab_link": true
    },
    "kernelspec": {
      "name": "python3",
      "display_name": "Python 3"
    },
    "language_info": {
      "name": "python"
    }
  },
  "cells": [
    {
      "cell_type": "markdown",
      "metadata": {
        "id": "view-in-github",
        "colab_type": "text"
      },
      "source": [
        "<a href=\"https://colab.research.google.com/github/adrianyang2012/landing_lunar_module_practicer/blob/main/rockets.ipynb\" target=\"_parent\"><img src=\"https://colab.research.google.com/assets/colab-badge.svg\" alt=\"Open In Colab\"/></a>"
      ]
    },
    {
      "cell_type": "code",
      "execution_count": null,
      "metadata": {
        "id": "Uj3KmIFd7F_e"
      },
      "outputs": [],
      "source": [
        "import matplotlib.pyplot as plt\n",
        "import random\n",
        "plt.plot([-20,20],[0,0])\n",
        "plt.scatter(0,10,c = 'white')\n",
        "x = 0\n",
        "y1=10\n",
        "y2 = 10\n",
        "ac = 1\n",
        "for i in range(0,30):\n",
        "  y1 = y1-ac\n",
        "  y2 = y2-ac\n",
        "  if ac < 0.2:\n",
        "    ac = 1.1\n",
        "  ac =  ac *1.1\n",
        "\n",
        "  plt.plot([-20,20],[0,0])\n",
        "  plt.scatter(0,10,c = 'white')\n",
        "\n",
        "  if random.randint(0,1)  == 0:\n",
        "    y1 += random.randint(-2,2)\n",
        "  else:\n",
        "    y2 += random.randint(-2,2)\n",
        "  plt.plot([x-5,x+5],[y1,y2])\n",
        "  plt.scatter(0,10,c = 'white')\n",
        "  print(f\"accleration is :{ac}\")\n",
        "  print('press r for right engine and l for left engine and t for both engines and g for landing')\n",
        "  move = input('-->')\n",
        "  if move == 'r':\n",
        "    y2 += 1\n",
        "    x -= 3\n",
        "  if move == 'l':\n",
        "    y1 += 1\n",
        "    x += 3\n",
        "  if move == 't':\n",
        "    ac -= 1\n",
        "    y2+= 1\n",
        "    y1 += 1\n",
        "  if move == 'g':\n",
        "\n",
        "    if y1 < 3:\n",
        "      if abs(y1-y2) <= 2:\n",
        "        print('you landed safley!')\n",
        "        break\n",
        "  if y1 < 0:\n",
        "    print('you crashed!')\n",
        "    break\n",
        "  plt.show()\n",
        "if i == 29:\n",
        "  print('you ran out of fuel')"
      ]
    }
  ]
}